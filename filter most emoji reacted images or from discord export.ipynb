{
 "cells": [
  {
   "cell_type": "code",
   "execution_count": 163,
   "id": "9537a515",
   "metadata": {},
   "outputs": [],
   "source": [
    "import os\n",
    "import json\n",
    "#import re\n",
    "import shutil\n",
    "#import pandas\n",
    "from collections import Counter"
   ]
  },
  {
   "cell_type": "raw",
   "id": "9a943b87",
   "metadata": {},
   "source": [
    "This file will take an export of a channel (from https://github.com/Tyrrrz/DiscordChatExporter) and do one of two things \n"
   ]
  },
  {
   "cell_type": "code",
   "execution_count": 243,
   "id": "8994eb55",
   "metadata": {},
   "outputs": [],
   "source": [
    "data_file = \"Downloads/[name of discord server - chat channel].json\"\n",
    "data_folder = data_file+\"_Files\"\n",
    "\n",
    "#option 1 - collect all the attachments based on the minimum number of total emojis the post has\n",
    "minimum_emoji_reacts = 15\n",
    "\n",
    "#option 2 - collect all the attachments based on the minimum number of time the same filename was posted\n",
    "minimum_num_reposts = 15"
   ]
  },
  {
   "cell_type": "code",
   "execution_count": 223,
   "id": "a27950ca",
   "metadata": {},
   "outputs": [
    {
     "name": "stdout",
     "output_type": "stream",
     "text": [
      "17\n"
     ]
    }
   ],
   "source": [
    "#functions\n",
    "# need a couple things from each message\n",
    "# does it has a file?\n",
    "# how many total reactions\n",
    "# determ\n",
    "def get_attachments(message):\n",
    "    if \"attachments\" in message.keys():\n",
    "        return message['attachments']\n",
    "    else:\n",
    "        return []\n",
    "\n",
    "def get_filename(attachment):\n",
    "    #return attachment['fileName']\n",
    "    #return attachment['url']\n",
    "    filename = attachment['url']\n",
    "    filename = filename[filename.rfind(\"\\\\\")+1:]\n",
    "    return filename\n",
    "\n",
    "def get_truncated_filename(filename):\n",
    "    truncated = filename[:filename.rfind(\"-\")]+filename[filename.rfind(\".\"):]\n",
    "    if (len(truncated)-len(filename))!=6:  # reduction should be exactly 6. if it's not, then it's the wrong string\n",
    "        #print(f\"issue truncating filename: {filename}\")\n",
    "        return filename\n",
    "    else:\n",
    "        return truncated\n",
    "\n",
    "def de_truncate_filename(truncated, all_files):\n",
    "    #return truncated[:truncated.rfind(\".\")]\n",
    "    return [i for i in all_files if truncated[:truncated.rfind(\".\")] in i][0]\n",
    "\n",
    "def get_total_reactions(message):\n",
    "    total_reacts = 0\n",
    "    for reactions in message['reactions']:\n",
    "        total_reacts+=reactions['count']\n",
    "        \n",
    "    return total_reacts\n",
    "\n",
    "print(data['messages'][0]['reactions'][0]['count'])\n",
    "\n"
   ]
  },
  {
   "cell_type": "code",
   "execution_count": null,
   "id": "f49cbfea",
   "metadata": {},
   "outputs": [],
   "source": [
    "#load the json\n",
    "data = json.load(open(data_file,encoding=\"UTF-8\"))"
   ]
  },
  {
   "cell_type": "code",
   "execution_count": 244,
   "id": "35c772aa",
   "metadata": {},
   "outputs": [
    {
     "name": "stdout",
     "output_type": "stream",
     "text": [
      "229497 total messages\n",
      "37258 total files\n",
      "429 files to keep (minimum 15 emoji reactions)\n",
      "99.8134182302132\n",
      "done\n",
      "429 files copied\n"
     ]
    }
   ],
   "source": [
    "#Option 1, get list of files above x reactions\n",
    "minimum_emoji_reacts\n",
    "keep_files_set = set()\n",
    "keep_files = []\n",
    "total_files = 0\n",
    "\n",
    "for message in data['messages']:\n",
    "    files = get_attachments(message)\n",
    "    total_files+=len(files)\n",
    "    reacts = get_total_reactions(message)\n",
    "    if reacts < minimum_emoji_reacts:\n",
    "        continue\n",
    "    for file in files:  # we want to keep this file\n",
    "        filename = get_filename(file)\n",
    "        truncated = get_truncated_filename(filename)\n",
    "        if truncated not in keep_files_set:  # unless we already kept a duplicate\n",
    "            keep_files.append(filename)\n",
    "            keep_files_set.add(truncated)\n",
    "\n",
    "print(f\"{len(data['messages'])} total messages\")\n",
    "print(f\"{total_files} total files\")\n",
    "#print(len(keep_files_set))\n",
    "print(f\"{len(keep_files)} files to keep (minimum {minimum_emoji_reacts} emoji reactions)\")\n",
    "\n",
    "print(100-len(keep_files)/\n",
    "     (len(data['messages'])+len(keep_files))*100)\n",
    "\n",
    "#make folder for the copied files\n",
    "dest_dir = f\"min_reacts_{minimum_emoji_reacts}\" \n",
    "try:\n",
    "    os.mkdir(dest_dir)\n",
    "except:\n",
    "    shutil.rmtree(dest_dir)\n",
    "    #os.rmdir(dest_dir)\n",
    "    os.mkdir(dest_dir)\n",
    "for file in keep_files:\n",
    "    try:\n",
    "        src = os.path.join(data_folder,file)\n",
    "        #dst = os.path.join(dest_dir, truncate_filename(file))\n",
    "        dst = os.path.join(dest_dir, file)\n",
    "        shutil.copy(src,dst)\n",
    "    except:\n",
    "        print(f\"couldn't find file {file}\")\n",
    "    \n",
    "print(\"done\")\n",
    "print(f\"{len(os.listdir(dest_dir))} files copied\")"
   ]
  },
  {
   "cell_type": "code",
   "execution_count": 242,
   "id": "1afc6d7b",
   "metadata": {},
   "outputs": [
    {
     "name": "stdout",
     "output_type": "stream",
     "text": [
      "37258 total files\n",
      "225 files to keep (minimum 15 reposts)\n",
      "99.902055527986\n",
      "done\n",
      "214 files copied\n"
     ]
    }
   ],
   "source": [
    "#Option 2, copy files that are reposted minimum_num_reposts times\n",
    "c = Counter()\n",
    "total_files = 0\n",
    "all_files = os.listdir(data_folder)\n",
    "\n",
    "#all_files = os.listdir(data_folder)\n",
    "#all_files = [truncate_filename(i) for i in all_files]\n",
    "\n",
    "for message in data['messages']:\n",
    "    files = get_attachments(message)\n",
    "    files = [truncate_filename(get_filename(i)) for i in files]\n",
    "    total_files += len(files)\n",
    "    c.update(files)\n",
    "\n",
    "    \n",
    "#keep posts reposted x times\n",
    "keep_files = []\n",
    "for i in c.keys():\n",
    "    if c[i]>=minimum_num_reposts:\n",
    "        keep_files.append(i)\n",
    "        \n",
    "print(f\"{total_files} total files\")\n",
    "#print(len(keep_files_set))\n",
    "print(f\"{len(keep_files)} files to keep (minimum {minimum_num_reposts} reposts)\")\n",
    "\n",
    "print(100-len(keep_files)/\n",
    "     (len(data['messages'])+len(keep_files))*100)\n",
    "\n",
    "#make folder for the copied files\n",
    "dest_dir = f\"min_reposts_{minimum_num_reposts}\" \n",
    "try:\n",
    "    os.mkdir(dest_dir)\n",
    "except:\n",
    "    shutil.rmtree(dest_dir)\n",
    "    #os.rmdir(dest_dir)\n",
    "    os.mkdir(dest_dir)\n",
    "for file in keep_files:\n",
    "    try:\n",
    "        new_file = de_truncate_filename(file,all_files)\n",
    "        src = os.path.join(data_folder,new_file)\n",
    "        #dst = os.path.join(dest_dir, truncate_filename(file))\n",
    "        dst = os.path.join(dest_dir, new_file)\n",
    "        shutil.copy(src,dst)\n",
    "    except:\n",
    "        print(f\"couldn't find file {src}\")\n",
    "    \n",
    "print(\"done\")\n",
    "print(f\"{len(os.listdir(dest_dir))} files copied\")"
   ]
  },
  {
   "cell_type": "code",
   "execution_count": 129,
   "id": "d1a7bd16",
   "metadata": {},
   "outputs": [
    {
     "name": "stdout",
     "output_type": "stream",
     "text": [
      "37258\n",
      "0\n"
     ]
    }
   ],
   "source": [
    "#check that all filenames exist\n",
    "count_bad = 0\n",
    "count_good = 0\n",
    "good_set = set()\n",
    "all_files = os.listdir(data_folder)\n",
    "all_set = set(all_files)\n",
    "for message in data['messages']:\n",
    "    files = get_attachments(message)\n",
    "    for file in files:  # we want to keep this file\n",
    "        filename = get_filename(file)\n",
    "        #filename=os.path.join(data_folder,filename)\n",
    "        if filename not in all_files:\n",
    "            print(f\"{filename}\")\n",
    "            count_bad+=1\n",
    "        else:\n",
    "            count_good+=1\n",
    "            good_set.add(filename)\n",
    "                  \n",
    "print(count_good)\n",
    "print(count_bad)"
   ]
  },
  {
   "cell_type": "code",
   "execution_count": 121,
   "id": "8f64fb20",
   "metadata": {},
   "outputs": [
    {
     "data": {
      "text/plain": [
       "False"
      ]
     },
     "execution_count": 121,
     "metadata": {},
     "output_type": "execute_result"
    }
   ],
   "source": [
    "f = filename[filename.rfind(\"\\\\\")+1:]\n",
    "#os.path.isfile(os.path.join(data_folder,f))\n",
    "os.path.isfile(filename)\n"
   ]
  },
  {
   "cell_type": "code",
   "execution_count": null,
   "id": "4b921be2",
   "metadata": {},
   "outputs": [],
   "source": []
  }
 ],
 "metadata": {
  "kernelspec": {
   "display_name": "Python 3 (ipykernel)",
   "language": "python",
   "name": "python3"
  },
  "language_info": {
   "codemirror_mode": {
    "name": "ipython",
    "version": 3
   },
   "file_extension": ".py",
   "mimetype": "text/x-python",
   "name": "python",
   "nbconvert_exporter": "python",
   "pygments_lexer": "ipython3",
   "version": "3.9.10"
  }
 },
 "nbformat": 4,
 "nbformat_minor": 5
}
